{
 "cells": [
  {
   "cell_type": "markdown",
   "metadata": {},
   "source": [
    "# Grouped Simple Moving Average\n",
    "\n",
    "This notebook compares Temporian's, pandas' and Polars' version of a grouped simple moving average, aiming to evaluate the speed and ease of writing of each library in this specific use case.\n",
    "\n",
    "## Data\n",
    "\n",
    "The data we'll be using belongs to the train CSV of [this Kaggle competition](https://www.kaggle.com/competitions/store-sales-time-series-forecasting/data?select=train.csv). It contains daily sales records for grocery stores in Ecuador. Each of the 3 million records corresponds to the daily sales of a certain `family` in a certain store number (`store_nbr`).\n",
    "\n",
    "To run the notebook, download the CSV and place it in `data/train.csv` in the project's root.\n",
    "\n",
    "Our goal is to calculate the **weekly moving average** of the sales for **each family** in each **store** (i.e., we want the moving average grouped by those two features)."
   ]
  },
  {
   "cell_type": "code",
   "execution_count": 1,
   "metadata": {},
   "outputs": [],
   "source": [
    "import numpy as np\n",
    "import pandas as pd\n",
    "import temporian as tp"
   ]
  },
  {
   "cell_type": "markdown",
   "metadata": {},
   "source": [
    "Load data to a pandas DataFrame."
   ]
  },
  {
   "cell_type": "code",
   "execution_count": 2,
   "metadata": {},
   "outputs": [
    {
     "data": {
      "text/html": [
       "<div>\n",
       "<style scoped>\n",
       "    .dataframe tbody tr th:only-of-type {\n",
       "        vertical-align: middle;\n",
       "    }\n",
       "\n",
       "    .dataframe tbody tr th {\n",
       "        vertical-align: top;\n",
       "    }\n",
       "\n",
       "    .dataframe thead th {\n",
       "        text-align: right;\n",
       "    }\n",
       "</style>\n",
       "<table border=\"1\" class=\"dataframe\">\n",
       "  <thead>\n",
       "    <tr style=\"text-align: right;\">\n",
       "      <th></th>\n",
       "      <th>date</th>\n",
       "      <th>store_nbr</th>\n",
       "      <th>sales</th>\n",
       "      <th>family</th>\n",
       "    </tr>\n",
       "  </thead>\n",
       "  <tbody>\n",
       "    <tr>\n",
       "      <th>0</th>\n",
       "      <td>2013-01-01</td>\n",
       "      <td>1</td>\n",
       "      <td>0.000</td>\n",
       "      <td>AUTOMOTIVE</td>\n",
       "    </tr>\n",
       "    <tr>\n",
       "      <th>1</th>\n",
       "      <td>2013-01-01</td>\n",
       "      <td>1</td>\n",
       "      <td>0.000</td>\n",
       "      <td>BABY CARE</td>\n",
       "    </tr>\n",
       "    <tr>\n",
       "      <th>2</th>\n",
       "      <td>2013-01-01</td>\n",
       "      <td>1</td>\n",
       "      <td>0.000</td>\n",
       "      <td>BEAUTY</td>\n",
       "    </tr>\n",
       "    <tr>\n",
       "      <th>3</th>\n",
       "      <td>2013-01-01</td>\n",
       "      <td>1</td>\n",
       "      <td>0.000</td>\n",
       "      <td>BEVERAGES</td>\n",
       "    </tr>\n",
       "    <tr>\n",
       "      <th>4</th>\n",
       "      <td>2013-01-01</td>\n",
       "      <td>1</td>\n",
       "      <td>0.000</td>\n",
       "      <td>BOOKS</td>\n",
       "    </tr>\n",
       "    <tr>\n",
       "      <th>...</th>\n",
       "      <td>...</td>\n",
       "      <td>...</td>\n",
       "      <td>...</td>\n",
       "      <td>...</td>\n",
       "    </tr>\n",
       "    <tr>\n",
       "      <th>3000883</th>\n",
       "      <td>2017-08-15</td>\n",
       "      <td>9</td>\n",
       "      <td>438.133</td>\n",
       "      <td>POULTRY</td>\n",
       "    </tr>\n",
       "    <tr>\n",
       "      <th>3000884</th>\n",
       "      <td>2017-08-15</td>\n",
       "      <td>9</td>\n",
       "      <td>154.553</td>\n",
       "      <td>PREPARED FOODS</td>\n",
       "    </tr>\n",
       "    <tr>\n",
       "      <th>3000885</th>\n",
       "      <td>2017-08-15</td>\n",
       "      <td>9</td>\n",
       "      <td>2419.729</td>\n",
       "      <td>PRODUCE</td>\n",
       "    </tr>\n",
       "    <tr>\n",
       "      <th>3000886</th>\n",
       "      <td>2017-08-15</td>\n",
       "      <td>9</td>\n",
       "      <td>121.000</td>\n",
       "      <td>SCHOOL AND OFFICE SUPPLIES</td>\n",
       "    </tr>\n",
       "    <tr>\n",
       "      <th>3000887</th>\n",
       "      <td>2017-08-15</td>\n",
       "      <td>9</td>\n",
       "      <td>16.000</td>\n",
       "      <td>SEAFOOD</td>\n",
       "    </tr>\n",
       "  </tbody>\n",
       "</table>\n",
       "<p>3000888 rows × 4 columns</p>\n",
       "</div>"
      ],
      "text/plain": [
       "              date  store_nbr     sales                      family\n",
       "0       2013-01-01          1     0.000                  AUTOMOTIVE\n",
       "1       2013-01-01          1     0.000                   BABY CARE\n",
       "2       2013-01-01          1     0.000                      BEAUTY\n",
       "3       2013-01-01          1     0.000                   BEVERAGES\n",
       "4       2013-01-01          1     0.000                       BOOKS\n",
       "...            ...        ...       ...                         ...\n",
       "3000883 2017-08-15          9   438.133                     POULTRY\n",
       "3000884 2017-08-15          9   154.553              PREPARED FOODS\n",
       "3000885 2017-08-15          9  2419.729                     PRODUCE\n",
       "3000886 2017-08-15          9   121.000  SCHOOL AND OFFICE SUPPLIES\n",
       "3000887 2017-08-15          9    16.000                     SEAFOOD\n",
       "\n",
       "[3000888 rows x 4 columns]"
      ]
     },
     "execution_count": 2,
     "metadata": {},
     "output_type": "execute_result"
    }
   ],
   "source": [
    "sales_df = pd.read_csv('../data/train.csv', parse_dates=['date'])[['date', 'store_nbr', 'sales', 'family']]\n",
    "sales_df"
   ]
  },
  {
   "cell_type": "markdown",
   "metadata": {},
   "source": [
    "Load data to a Temporian EventSet."
   ]
  },
  {
   "cell_type": "code",
   "execution_count": 3,
   "metadata": {},
   "outputs": [
    {
     "name": "stderr",
     "output_type": "stream",
     "text": [
      "WARNING:root:Feature \"family\" is an array of numpy.object_ and will be casted to numpy.string_ (Note: numpy.string_ is equivalent to numpy.bytes_).\n"
     ]
    },
    {
     "data": {
      "text/html": [
       "<div>\n",
       "  <div style=\"display: table; margin-bottom:11px; padding:5px; font-size:small; line-height:120%; border:1px solid rgba(127, 127, 127, 0.2)\">\n",
       "    <div style=\"display: table\">\n",
       "      <span>\n",
       "        <span style=\"font-weight:bold\">features</span>\n",
       "        <span style=\"\"> [3]:</span>\n",
       "      </span>\n",
       "      <span style=\"color:#0077BB; font-weight:bold\">sales</span>\n",
       "      <span style=\"color:#009988\"> (float64)</span>\n",
       "      <span style=\"\">, </span>\n",
       "      <span style=\"color:#0077BB; font-weight:bold\">store_nbr</span>\n",
       "      <span style=\"color:#009988\"> (int64)</span>\n",
       "      <span style=\"\">, </span>\n",
       "      <span style=\"color:#0077BB; font-weight:bold\">family</span>\n",
       "      <span style=\"color:#009988\"> (str_)</span>\n",
       "    </div>\n",
       "    <div style=\"display: table\">\n",
       "      <span>\n",
       "        <span style=\"font-weight:bold\">indexes</span>\n",
       "        <span style=\"\"> [0]:</span>\n",
       "      </span>\n",
       "      <span style=\"font-style:italic\">none</span>\n",
       "    </div>\n",
       "    <div style=\"display: table\">\n",
       "      <span style=\"font-weight:bold\">events: </span>\n",
       "      <span style=\"\">3000888</span>\n",
       "    </div>\n",
       "    <div style=\"display: table\">\n",
       "      <span style=\"font-weight:bold\">index values: </span>\n",
       "      <span style=\"\">1</span>\n",
       "    </div>\n",
       "    <div style=\"display: table\">\n",
       "      <span style=\"font-weight:bold\">memory usage: </span>\n",
       "      <span style=\"\">150.0 MB</span>\n",
       "    </div>\n",
       "  </div>\n",
       "  <div style=\"display: table\">\n",
       "    <span style=\"font-weight:bold\">index</span>\n",
       "    <span style=\"\"> (</span>\n",
       "    <span style=\"\">) with 3000888 events</span>\n",
       "  </div>\n",
       "  <table style=\"margin-left:20px; border:1px solid rgba(127, 127, 127, 0.2)\">\n",
       "    <tr>\n",
       "      <th>\n",
       "        <b>\n",
       "          <span style=\"\">timestamp</span>\n",
       "        </b>\n",
       "      </th>\n",
       "      <th>\n",
       "        <b>\n",
       "          <span style=\"color:#0077BB; font-weight:bold; \">sales</span>\n",
       "        </b>\n",
       "      </th>\n",
       "      <th>\n",
       "        <b>\n",
       "          <span style=\"color:#0077BB; font-weight:bold; \">store_nbr</span>\n",
       "        </b>\n",
       "      </th>\n",
       "      <th>\n",
       "        <b>\n",
       "          <span style=\"color:#0077BB; font-weight:bold; \">family</span>\n",
       "        </b>\n",
       "      </th>\n",
       "    </tr>\n",
       "    <tr>\n",
       "      <td>\n",
       "        <span style=\"\">2013-01-01 00:00:00+00:00</span>\n",
       "      </td>\n",
       "      <td>\n",
       "        <span style=\"\">0</span>\n",
       "      </td>\n",
       "      <td>\n",
       "        <span style=\"\">1</span>\n",
       "      </td>\n",
       "      <td>\n",
       "        <span style=\"\">AUTOMOTIVE</span>\n",
       "      </td>\n",
       "    </tr>\n",
       "    <tr>\n",
       "      <td>\n",
       "        <span style=\"\">2013-01-01 00:00:00+00:00</span>\n",
       "      </td>\n",
       "      <td>\n",
       "        <span style=\"\">0</span>\n",
       "      </td>\n",
       "      <td>\n",
       "        <span style=\"\">1</span>\n",
       "      </td>\n",
       "      <td>\n",
       "        <span style=\"\">BABY CARE</span>\n",
       "      </td>\n",
       "    </tr>\n",
       "    <tr>\n",
       "      <td>\n",
       "        <span style=\"\">2013-01-01 00:00:00+00:00</span>\n",
       "      </td>\n",
       "      <td>\n",
       "        <span style=\"\">0</span>\n",
       "      </td>\n",
       "      <td>\n",
       "        <span style=\"\">1</span>\n",
       "      </td>\n",
       "      <td>\n",
       "        <span style=\"\">BEAUTY</span>\n",
       "      </td>\n",
       "    </tr>\n",
       "    <tr>\n",
       "      <td>\n",
       "        <span style=\"\">2013-01-01 00:00:00+00:00</span>\n",
       "      </td>\n",
       "      <td>\n",
       "        <span style=\"\">0</span>\n",
       "      </td>\n",
       "      <td>\n",
       "        <span style=\"\">1</span>\n",
       "      </td>\n",
       "      <td>\n",
       "        <span style=\"\">BEVERAGES</span>\n",
       "      </td>\n",
       "    </tr>\n",
       "    <tr>\n",
       "      <td>\n",
       "        <span style=\"\">2013-01-01 00:00:00+00:00</span>\n",
       "      </td>\n",
       "      <td>\n",
       "        <span style=\"\">0</span>\n",
       "      </td>\n",
       "      <td>\n",
       "        <span style=\"\">1</span>\n",
       "      </td>\n",
       "      <td>\n",
       "        <span style=\"\">BOOKS</span>\n",
       "      </td>\n",
       "    </tr>\n",
       "    <tr>\n",
       "      <td>\n",
       "        <span style=\"\">…</span>\n",
       "      </td>\n",
       "      <td>\n",
       "        <span style=\"\">…</span>\n",
       "      </td>\n",
       "      <td>\n",
       "        <span style=\"\">…</span>\n",
       "      </td>\n",
       "      <td>\n",
       "        <span style=\"\">…</span>\n",
       "      </td>\n",
       "    </tr>\n",
       "  </table>\n",
       "</div>\n"
      ],
      "text/plain": [
       "indexes: []\n",
       "features: [('sales', float64), ('store_nbr', int64), ('family', str_)]\n",
       "events:\n",
       "     (3000888 events):\n",
       "        timestamps: ['2013-01-01T00:00:00' '2013-01-01T00:00:00' '2013-01-01T00:00:00' ...\n",
       "     '2017-08-15T00:00:00' '2017-08-15T00:00:00' '2017-08-15T00:00:00']\n",
       "        'sales': [   0.       0.       0.    ... 2419.729  121.      16.   ]\n",
       "        'store_nbr': [1 1 1 ... 9 9 9]\n",
       "        'family': [b'AUTOMOTIVE' b'BABY CARE' b'BEAUTY' ... b'PRODUCE'\n",
       "         b'SCHOOL AND OFFICE SUPPLIES' b'SEAFOOD']\n",
       "memory usage: 150.0 MB"
      ]
     },
     "execution_count": 3,
     "metadata": {},
     "output_type": "execute_result"
    }
   ],
   "source": [
    "sales_evset = tp.from_csv('../data/train.csv', timestamps='date')[['sales', 'store_nbr', 'family']]\n",
    "sales_evset"
   ]
  },
  {
   "cell_type": "markdown",
   "metadata": {},
   "source": [
    "## Grouped moving average in pandas\n",
    "\n",
    "We use the `rolling` method of pandas DataFrames to calculate the moving average. We group by `store_nbr` and `family` and then apply the rolling method to the `sales` column.\n",
    "\n",
    "We'll only measure the time it takes to compute the actual moving average, not the time it takes to group the data, since it is not directly comparable between the two libraries."
   ]
  },
  {
   "cell_type": "code",
   "execution_count": 4,
   "metadata": {},
   "outputs": [],
   "source": [
    "grouped_df = sales_df.groupby(['store_nbr', 'family'])"
   ]
  },
  {
   "cell_type": "code",
   "execution_count": 5,
   "metadata": {},
   "outputs": [
    {
     "name": "stdout",
     "output_type": "stream",
     "text": [
      "768 ms ± 4.06 ms per loop (mean ± std. dev. of 7 runs, 1 loop each)\n"
     ]
    },
    {
     "data": {
      "text/plain": [
       "<TimeitResult : 768 ms ± 4.06 ms per loop (mean ± std. dev. of 7 runs, 1 loop each)>"
      ]
     },
     "execution_count": 5,
     "metadata": {},
     "output_type": "execute_result"
    }
   ],
   "source": [
    "%%timeit -o\n",
    "\n",
    "grouped_df.rolling('7d', on='date').mean()"
   ]
  },
  {
   "cell_type": "code",
   "execution_count": 6,
   "metadata": {},
   "outputs": [],
   "source": [
    "pd_res = _"
   ]
  },
  {
   "cell_type": "markdown",
   "metadata": {},
   "source": [
    "## Grouped moving average in Temporian\n",
    "\n",
    "Temporian can handle grouped (or hierarchically structured) data natively, using [indexes](https://temporian.readthedocs.io/en/stable/user_guide/#indexes-horizontal-and-vertical-operators). Once our data has the correct index, applying a `simple_moving_average` to it is straightforward."
   ]
  },
  {
   "cell_type": "code",
   "execution_count": 7,
   "metadata": {},
   "outputs": [],
   "source": [
    "grouped_evset = sales_evset.add_index(['store_nbr', 'family'])"
   ]
  },
  {
   "cell_type": "code",
   "execution_count": 8,
   "metadata": {},
   "outputs": [
    {
     "name": "stdout",
     "output_type": "stream",
     "text": [
      "24.1 ms ± 299 µs per loop (mean ± std. dev. of 7 runs, 10 loops each)\n"
     ]
    },
    {
     "data": {
      "text/plain": [
       "<TimeitResult : 24.1 ms ± 299 µs per loop (mean ± std. dev. of 7 runs, 10 loops each)>"
      ]
     },
     "execution_count": 8,
     "metadata": {},
     "output_type": "execute_result"
    }
   ],
   "source": [
    "%%timeit -o\n",
    "\n",
    "grouped_evset.simple_moving_average(tp.duration.weeks(1))"
   ]
  },
  {
   "cell_type": "code",
   "execution_count": 9,
   "metadata": {},
   "outputs": [],
   "source": [
    "tp_res = _"
   ]
  },
  {
   "cell_type": "markdown",
   "metadata": {},
   "source": [
    "## Results\n",
    "\n",
    "Computing the same grouped moving average in Temporian resulted in a **30x speedup** in this dataset!"
   ]
  },
  {
   "cell_type": "markdown",
   "metadata": {},
   "source": [
    "#### Sanity check\n",
    "\n",
    "As a sanity check, lets make sure the results from both libraries are the same."
   ]
  },
  {
   "cell_type": "code",
   "execution_count": 10,
   "metadata": {},
   "outputs": [
    {
     "data": {
      "text/plain": [
       "True"
      ]
     },
     "execution_count": 10,
     "metadata": {},
     "output_type": "execute_result"
    }
   ],
   "source": [
    "# Run them again since %%timeit doesn't modify vars in the outer scope\n",
    "pd_result = grouped_df.rolling('7d', on='date').mean()\n",
    "tp_result = grouped_evset.simple_moving_average(tp.duration.weeks(1))\n",
    "\n",
    "tp_sma = tp.to_pandas(tp_result).sort_values(['store_nbr', 'family', 'timestamp'])['sales']\n",
    "pd_sma = pd_result.sort_values(['store_nbr', 'family', 'date'])['sales']\n",
    "np.allclose(pd_sma, tp_sma)"
   ]
  },
  {
   "cell_type": "markdown",
   "metadata": {},
   "source": [
    "## But... what about Polars?\n",
    "\n",
    "[Polars](https://www.pola.rs/) is a DataFrame library written in Rust, born as a performance-oriented alternative to pandas. Lets see how it fares on this same task!"
   ]
  },
  {
   "cell_type": "code",
   "execution_count": 11,
   "metadata": {},
   "outputs": [
    {
     "data": {
      "text/html": [
       "<div><style>\n",
       ".dataframe > thead > tr > th,\n",
       ".dataframe > tbody > tr > td {\n",
       "  text-align: right;\n",
       "  white-space: pre-wrap;\n",
       "}\n",
       "</style>\n",
       "<small>shape: (5, 4)</small><table border=\"1\" class=\"dataframe\"><thead><tr><th>date</th><th>store_nbr</th><th>family</th><th>sales</th></tr><tr><td>date</td><td>i64</td><td>str</td><td>f64</td></tr></thead><tbody><tr><td>2013-01-01</td><td>1</td><td>&quot;AUTOMOTIVE&quot;</td><td>0.0</td></tr><tr><td>2013-01-01</td><td>1</td><td>&quot;BABY CARE&quot;</td><td>0.0</td></tr><tr><td>2013-01-01</td><td>1</td><td>&quot;BEAUTY&quot;</td><td>0.0</td></tr><tr><td>2013-01-01</td><td>1</td><td>&quot;BEVERAGES&quot;</td><td>0.0</td></tr><tr><td>2013-01-01</td><td>1</td><td>&quot;BOOKS&quot;</td><td>0.0</td></tr></tbody></table></div>"
      ],
      "text/plain": [
       "shape: (5, 4)\n",
       "┌────────────┬───────────┬────────────┬───────┐\n",
       "│ date       ┆ store_nbr ┆ family     ┆ sales │\n",
       "│ ---        ┆ ---       ┆ ---        ┆ ---   │\n",
       "│ date       ┆ i64       ┆ str        ┆ f64   │\n",
       "╞════════════╪═══════════╪════════════╪═══════╡\n",
       "│ 2013-01-01 ┆ 1         ┆ AUTOMOTIVE ┆ 0.0   │\n",
       "│ 2013-01-01 ┆ 1         ┆ BABY CARE  ┆ 0.0   │\n",
       "│ 2013-01-01 ┆ 1         ┆ BEAUTY     ┆ 0.0   │\n",
       "│ 2013-01-01 ┆ 1         ┆ BEVERAGES  ┆ 0.0   │\n",
       "│ 2013-01-01 ┆ 1         ┆ BOOKS      ┆ 0.0   │\n",
       "└────────────┴───────────┴────────────┴───────┘"
      ]
     },
     "execution_count": 11,
     "metadata": {},
     "output_type": "execute_result"
    }
   ],
   "source": [
    "import polars as pl\n",
    "\n",
    "polars_df = pl.read_csv(\"../data/train.csv\", try_parse_dates=True, columns=['date', 'store_nbr', 'sales', 'family'])\n",
    "polars_df.head()"
   ]
  },
  {
   "cell_type": "code",
   "execution_count": 12,
   "metadata": {},
   "outputs": [
    {
     "name": "stdout",
     "output_type": "stream",
     "text": [
      "CPU times: user 843 ms, sys: 166 ms, total: 1.01 s\n",
      "Wall time: 247 ms\n"
     ]
    }
   ],
   "source": [
    "%%time\n",
    "\n",
    "pl_result = polars_df.rolling(index_column='date', by=['store_nbr', 'family'], period='7d', offset='-7d').agg(pl.col('sales').mean())"
   ]
  },
  {
   "cell_type": "markdown",
   "metadata": {},
   "source": [
    "### Results\n",
    "\n",
    "Polars didn't get an edge over pandas - and Temporian is still **37x** faster than it.\n",
    "\n",
    "Note that this comparison isn't exactly fair though, since Polars doesn't provide a way to apply `.rolling()` over an already grouped DataFrame, which means we're counting both the grouping and the rolling average in the result!\n",
    "\n",
    "Lets do the same sanity check as before."
   ]
  },
  {
   "cell_type": "code",
   "execution_count": 13,
   "metadata": {},
   "outputs": [
    {
     "data": {
      "text/plain": [
       "True"
      ]
     },
     "execution_count": 13,
     "metadata": {},
     "output_type": "execute_result"
    }
   ],
   "source": [
    "pl_sma = pl_result.to_pandas().sort_values(['store_nbr', 'family', 'date'])['sales']\n",
    "np.allclose(pd_sma, pl_sma)"
   ]
  },
  {
   "cell_type": "markdown",
   "metadata": {},
   "source": [
    "# How does this scale?\n",
    "\n",
    "3 million records is already a decent dataset - but we might just find that scaling it up to larger amounts of data makes Temporian an even more attractive choie.\n",
    "\n",
    "Lets see how each library's performance scales to **5x** and **20x** the original number of rows!"
   ]
  },
  {
   "cell_type": "markdown",
   "metadata": {},
   "source": [
    "### Pandas"
   ]
  },
  {
   "cell_type": "code",
   "execution_count": 14,
   "metadata": {},
   "outputs": [],
   "source": [
    "sales_df_5x = pd.concat([sales_df] * 5).sort_values(['date']).reset_index(drop=True)\n",
    "grouped_df_5x = sales_df_5x.groupby(['store_nbr', 'family'])\n",
    "\n",
    "sales_df_20x = pd.concat([sales_df] * 20).sort_values(['date']).reset_index(drop=True)\n",
    "grouped_df_20x = sales_df_20x.groupby(['store_nbr', 'family'])\n",
    "\n",
    "sales_df_120x = pd.concat([sales_df] * 120).sort_values(['date']).reset_index(drop=True)\n",
    "grouped_df_120x = sales_df_120x.groupby(['store_nbr', 'family'])"
   ]
  },
  {
   "cell_type": "code",
   "execution_count": 15,
   "metadata": {},
   "outputs": [
    {
     "name": "stdout",
     "output_type": "stream",
     "text": [
      "4.47 s ± 13.6 ms per loop (mean ± std. dev. of 7 runs, 1 loop each)\n"
     ]
    },
    {
     "data": {
      "text/plain": [
       "<TimeitResult : 4.47 s ± 13.6 ms per loop (mean ± std. dev. of 7 runs, 1 loop each)>"
      ]
     },
     "execution_count": 15,
     "metadata": {},
     "output_type": "execute_result"
    }
   ],
   "source": [
    "%%timeit -o\n",
    "\n",
    "grouped_df_5x.rolling('7d', on='date').mean()"
   ]
  },
  {
   "cell_type": "code",
   "execution_count": 16,
   "metadata": {},
   "outputs": [],
   "source": [
    "pd_res_5x = _"
   ]
  },
  {
   "cell_type": "code",
   "execution_count": 17,
   "metadata": {},
   "outputs": [
    {
     "name": "stdout",
     "output_type": "stream",
     "text": [
      "20 s ± 81 ms per loop (mean ± std. dev. of 7 runs, 1 loop each)\n"
     ]
    },
    {
     "data": {
      "text/plain": [
       "<TimeitResult : 20 s ± 81 ms per loop (mean ± std. dev. of 7 runs, 1 loop each)>"
      ]
     },
     "execution_count": 17,
     "metadata": {},
     "output_type": "execute_result"
    }
   ],
   "source": [
    "%%timeit -o\n",
    "\n",
    "grouped_df_20x.rolling('7d', on='date').mean()"
   ]
  },
  {
   "cell_type": "code",
   "execution_count": 18,
   "metadata": {},
   "outputs": [],
   "source": [
    "pd_res_20x = _"
   ]
  },
  {
   "cell_type": "code",
   "execution_count": 19,
   "metadata": {},
   "outputs": [
    {
     "name": "stdout",
     "output_type": "stream",
     "text": [
      "2min 28s ± 1.51 s per loop (mean ± std. dev. of 7 runs, 1 loop each)\n"
     ]
    },
    {
     "data": {
      "text/plain": [
       "<TimeitResult : 2min 28s ± 1.51 s per loop (mean ± std. dev. of 7 runs, 1 loop each)>"
      ]
     },
     "execution_count": 19,
     "metadata": {},
     "output_type": "execute_result"
    }
   ],
   "source": [
    "%%timeit -o\n",
    "\n",
    "grouped_df_120x.rolling('7d', on='date').mean()"
   ]
  },
  {
   "cell_type": "code",
   "execution_count": 20,
   "metadata": {},
   "outputs": [],
   "source": [
    "pd_res_100x = _"
   ]
  },
  {
   "cell_type": "markdown",
   "metadata": {},
   "source": [
    "### Temporian"
   ]
  },
  {
   "cell_type": "code",
   "execution_count": 21,
   "metadata": {},
   "outputs": [],
   "source": [
    "grouped_evset_5x = tp.combine(*([grouped_evset] * 5))  # No need to sort values nor group again - Temporian natively stores data ordered by timestamp and grouped by index\n",
    "grouped_evset_20x = tp.combine(*([grouped_evset_5x] * 4))\n",
    "grouped_evset_120x = tp.combine(*([grouped_evset_20x] * 6))"
   ]
  },
  {
   "cell_type": "code",
   "execution_count": 22,
   "metadata": {},
   "outputs": [
    {
     "name": "stdout",
     "output_type": "stream",
     "text": [
      "73.1 ms ± 123 µs per loop (mean ± std. dev. of 7 runs, 10 loops each)\n"
     ]
    },
    {
     "data": {
      "text/plain": [
       "<TimeitResult : 73.1 ms ± 123 µs per loop (mean ± std. dev. of 7 runs, 10 loops each)>"
      ]
     },
     "execution_count": 22,
     "metadata": {},
     "output_type": "execute_result"
    }
   ],
   "source": [
    "%%timeit -o\n",
    "\n",
    "grouped_evset_5x.simple_moving_average(tp.duration.weeks(1))"
   ]
  },
  {
   "cell_type": "code",
   "execution_count": 23,
   "metadata": {},
   "outputs": [],
   "source": [
    "tp_res_5x = _"
   ]
  },
  {
   "cell_type": "code",
   "execution_count": 24,
   "metadata": {},
   "outputs": [
    {
     "name": "stdout",
     "output_type": "stream",
     "text": [
      "233 ms ± 836 µs per loop (mean ± std. dev. of 7 runs, 1 loop each)\n"
     ]
    },
    {
     "data": {
      "text/plain": [
       "<TimeitResult : 233 ms ± 836 µs per loop (mean ± std. dev. of 7 runs, 1 loop each)>"
      ]
     },
     "execution_count": 24,
     "metadata": {},
     "output_type": "execute_result"
    }
   ],
   "source": [
    "%%timeit -o\n",
    "\n",
    "grouped_evset_20x.simple_moving_average(tp.duration.weeks(1))"
   ]
  },
  {
   "cell_type": "code",
   "execution_count": 25,
   "metadata": {},
   "outputs": [],
   "source": [
    "tp_res_20x = _"
   ]
  },
  {
   "cell_type": "code",
   "execution_count": 27,
   "metadata": {},
   "outputs": [
    {
     "name": "stdout",
     "output_type": "stream",
     "text": [
      "1.35 s ± 4.43 ms per loop (mean ± std. dev. of 7 runs, 1 loop each)\n"
     ]
    },
    {
     "data": {
      "text/plain": [
       "<TimeitResult : 1.35 s ± 4.43 ms per loop (mean ± std. dev. of 7 runs, 1 loop each)>"
      ]
     },
     "execution_count": 27,
     "metadata": {},
     "output_type": "execute_result"
    }
   ],
   "source": [
    "%%timeit -o\n",
    "\n",
    "grouped_evset_120x.simple_moving_average(tp.duration.weeks(1))"
   ]
  },
  {
   "cell_type": "code",
   "execution_count": 28,
   "metadata": {},
   "outputs": [],
   "source": [
    "tp_res_120x = _"
   ]
  },
  {
   "cell_type": "markdown",
   "metadata": {},
   "source": [
    "# Results\n",
    "\n",
    "With 15M records, Temporian is **60x** faster than pandas and **85x** faster than Polars!\n",
    "\n",
    "With 60M records, Temporian is **95x** faster than pandas and **266x** faster than Polars!\n",
    "\n",
    "With 300M records, Temporian **850x** faster than pandas!\n",
    "\n",
    "We can visualize how differently the performance of each library degrades as the number of records increases by plotting the results."
   ]
  },
  {
   "cell_type": "code",
   "execution_count": 29,
   "metadata": {},
   "outputs": [
    {
     "data": {
      "image/png": "[encoded data removed]",
      "text/plain": [
       "<Figure size 640x480 with 1 Axes>"
      ]
     },
     "metadata": {},
     "output_type": "display_data"
    }
   ],
   "source": [
    "avg = lambda result: round(result.average, 2)\n",
    "\n",
    "data = pd.DataFrame({\n",
    "    \"pandas\": [avg(pd_res), avg(pd_res_5x), avg(pd_res_20x), avg(pd_res_100x)],\n",
    "    \"temporian\": [avg(tp_res), avg(tp_res_5x), avg(tp_res_20x), avg(tp_res_120x)],\n",
    "}, index=['3', '15M', '60M', '360M'])\n",
    "ax = data.plot.bar(xlabel='# of records (millions)', ylabel='Seconds')\n",
    "\n",
    "for container in ax.containers:\n",
    "    ax.bar_label(container)"
   ]
  },
  {
   "cell_type": "code",
   "execution_count": 31,
   "metadata": {},
   "outputs": [
    {
     "data": {
      "text/plain": [
       "<Axes: xlabel='# of records (millions)', ylabel='Times faster than pandas'>"
      ]
     },
     "execution_count": 31,
     "metadata": {},
     "output_type": "execute_result"
    },
    {
     "data": {
      "image/png": "[encoded data removed]",
      "text/plain": [
       "<Figure size 640x480 with 1 Axes>"
      ]
     },
     "metadata": {},
     "output_type": "display_data"
    }
   ],
   "source": [
    "data = pd.DataFrame({\n",
    "    \"\": [pd_res.average/tp_res.average, pd_res_5x.average/tp_res_5x.average, pd_res_20x.average/tp_res_20x.average, pd_res_100x.average/tp_res_120x.average],\n",
    "}, index=['3M', '15M', '60M', '300M'])\n",
    "data.plot.bar(xlabel='# of records (millions)', ylabel='Times faster than pandas')"
   ]
  },
  {
   "cell_type": "code",
   "execution_count": null,
   "metadata": {},
   "outputs": [],
   "source": []
  }
 ],
 "metadata": {
  "kernelspec": {
   "display_name": ".venv",
   "language": "python",
   "name": "python3"
  },
  "language_info": {
   "codemirror_mode": {
    "name": "ipython",
    "version": 3
   },
   "file_extension": ".py",
   "mimetype": "text/x-python",
   "name": "python",
   "nbconvert_exporter": "python",
   "pygments_lexer": "ipython3",
   "version": "3.9.10"
  }
 },
 "nbformat": 4,
 "nbformat_minor": 2
}
