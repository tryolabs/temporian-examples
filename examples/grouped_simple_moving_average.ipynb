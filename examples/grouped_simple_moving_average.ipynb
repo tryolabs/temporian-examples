{
 "cells": [
  {
   "cell_type": "markdown",
   "metadata": {},
   "source": [
    "# Grouped Simple Moving Average\n",
    "\n",
    "This notebook compares Temporian's and pandas' version of a grouped simple moving average, aiming to evaluate the speed and ease of writing of each library in this specific use case.\n",
    "\n",
    "## Data\n",
    "\n",
    "The data we'll be using belongs to the train CSV of [this Kaggle competition](https://www.kaggle.com/competitions/store-sales-time-series-forecasting/data?select=train.csv). It contains daily sales records for grocery stores in Ecuador. Each of the 3 million records corresponds to the daily sales of a certain `family` in a certain store number (`store_nbr`).\n",
    "\n",
    "To run the notebook, download the CSV and place it in `data/train.csv` in the project's root.\n",
    "\n",
    "Our goal is to calculate the **weekly moving average** of the sales for **each family** in each **store** (i.e., we want the moving average grouped by those two features)."
   ]
  },
  {
   "cell_type": "code",
   "execution_count": 4,
   "metadata": {},
   "outputs": [],
   "source": [
    "import numpy as np\n",
    "import pandas as pd\n",
    "# import temporian as tp"
   ]
  },
  {
   "cell_type": "markdown",
   "metadata": {},
   "source": [
    "Load data to a pandas DataFrame."
   ]
  },
  {
   "cell_type": "code",
   "execution_count": 5,
   "metadata": {},
   "outputs": [
    {
     "data": {
      "text/html": [
       "<div>\n",
       "<style scoped>\n",
       "    .dataframe tbody tr th:only-of-type {\n",
       "        vertical-align: middle;\n",
       "    }\n",
       "\n",
       "    .dataframe tbody tr th {\n",
       "        vertical-align: top;\n",
       "    }\n",
       "\n",
       "    .dataframe thead th {\n",
       "        text-align: right;\n",
       "    }\n",
       "</style>\n",
       "<table border=\"1\" class=\"dataframe\">\n",
       "  <thead>\n",
       "    <tr style=\"text-align: right;\">\n",
       "      <th></th>\n",
       "      <th>date</th>\n",
       "      <th>store_nbr</th>\n",
       "      <th>sales</th>\n",
       "      <th>family</th>\n",
       "    </tr>\n",
       "  </thead>\n",
       "  <tbody>\n",
       "    <tr>\n",
       "      <th>0</th>\n",
       "      <td>2013-01-01</td>\n",
       "      <td>1</td>\n",
       "      <td>0.000</td>\n",
       "      <td>AUTOMOTIVE</td>\n",
       "    </tr>\n",
       "    <tr>\n",
       "      <th>1</th>\n",
       "      <td>2013-01-01</td>\n",
       "      <td>1</td>\n",
       "      <td>0.000</td>\n",
       "      <td>BABY CARE</td>\n",
       "    </tr>\n",
       "    <tr>\n",
       "      <th>2</th>\n",
       "      <td>2013-01-01</td>\n",
       "      <td>1</td>\n",
       "      <td>0.000</td>\n",
       "      <td>BEAUTY</td>\n",
       "    </tr>\n",
       "    <tr>\n",
       "      <th>3</th>\n",
       "      <td>2013-01-01</td>\n",
       "      <td>1</td>\n",
       "      <td>0.000</td>\n",
       "      <td>BEVERAGES</td>\n",
       "    </tr>\n",
       "    <tr>\n",
       "      <th>4</th>\n",
       "      <td>2013-01-01</td>\n",
       "      <td>1</td>\n",
       "      <td>0.000</td>\n",
       "      <td>BOOKS</td>\n",
       "    </tr>\n",
       "    <tr>\n",
       "      <th>...</th>\n",
       "      <td>...</td>\n",
       "      <td>...</td>\n",
       "      <td>...</td>\n",
       "      <td>...</td>\n",
       "    </tr>\n",
       "    <tr>\n",
       "      <th>3000883</th>\n",
       "      <td>2017-08-15</td>\n",
       "      <td>9</td>\n",
       "      <td>438.133</td>\n",
       "      <td>POULTRY</td>\n",
       "    </tr>\n",
       "    <tr>\n",
       "      <th>3000884</th>\n",
       "      <td>2017-08-15</td>\n",
       "      <td>9</td>\n",
       "      <td>154.553</td>\n",
       "      <td>PREPARED FOODS</td>\n",
       "    </tr>\n",
       "    <tr>\n",
       "      <th>3000885</th>\n",
       "      <td>2017-08-15</td>\n",
       "      <td>9</td>\n",
       "      <td>2419.729</td>\n",
       "      <td>PRODUCE</td>\n",
       "    </tr>\n",
       "    <tr>\n",
       "      <th>3000886</th>\n",
       "      <td>2017-08-15</td>\n",
       "      <td>9</td>\n",
       "      <td>121.000</td>\n",
       "      <td>SCHOOL AND OFFICE SUPPLIES</td>\n",
       "    </tr>\n",
       "    <tr>\n",
       "      <th>3000887</th>\n",
       "      <td>2017-08-15</td>\n",
       "      <td>9</td>\n",
       "      <td>16.000</td>\n",
       "      <td>SEAFOOD</td>\n",
       "    </tr>\n",
       "  </tbody>\n",
       "</table>\n",
       "<p>3000888 rows × 4 columns</p>\n",
       "</div>"
      ],
      "text/plain": [
       "              date  store_nbr     sales                      family\n",
       "0       2013-01-01          1     0.000                  AUTOMOTIVE\n",
       "1       2013-01-01          1     0.000                   BABY CARE\n",
       "2       2013-01-01          1     0.000                      BEAUTY\n",
       "3       2013-01-01          1     0.000                   BEVERAGES\n",
       "4       2013-01-01          1     0.000                       BOOKS\n",
       "...            ...        ...       ...                         ...\n",
       "3000883 2017-08-15          9   438.133                     POULTRY\n",
       "3000884 2017-08-15          9   154.553              PREPARED FOODS\n",
       "3000885 2017-08-15          9  2419.729                     PRODUCE\n",
       "3000886 2017-08-15          9   121.000  SCHOOL AND OFFICE SUPPLIES\n",
       "3000887 2017-08-15          9    16.000                     SEAFOOD\n",
       "\n",
       "[3000888 rows x 4 columns]"
      ]
     },
     "execution_count": 5,
     "metadata": {},
     "output_type": "execute_result"
    }
   ],
   "source": [
    "sales_df = pd.read_csv('../data/train.csv', parse_dates=['date'])[['date', 'store_nbr', 'sales', 'family']]\n",
    "sales_df"
   ]
  },
  {
   "cell_type": "markdown",
   "metadata": {},
   "source": [
    "Load data to a Temporian EventSet."
   ]
  },
  {
   "cell_type": "code",
   "execution_count": 6,
   "metadata": {},
   "outputs": [],
   "source": [
    "# sales_evset = tp.from_csv('../data/train.csv', timestamps='date')[['sales', 'store_nbr', 'family']]\n",
    "# sales_evset"
   ]
  },
  {
   "cell_type": "markdown",
   "metadata": {},
   "source": [
    "## Grouped moving average in pandas\n",
    "\n",
    "We use the `rolling` method of pandas DataFrames to calculate the moving average. We group by `store_nbr` and `family` and then apply the rolling method to the `sales` column.\n",
    "\n",
    "We'll only measure the time it takes to compute the actual moving average, not the time it takes to group the data, since it is not directly comparable between the two libraries."
   ]
  },
  {
   "cell_type": "code",
   "execution_count": 7,
   "metadata": {},
   "outputs": [],
   "source": [
    "grouped_df = sales_df.groupby(['store_nbr', 'family'])"
   ]
  },
  {
   "cell_type": "code",
   "execution_count": 8,
   "metadata": {},
   "outputs": [
    {
     "name": "stdout",
     "output_type": "stream",
     "text": [
      "CPU times: user 1.04 s, sys: 316 ms, total: 1.35 s\n",
      "Wall time: 1.4 s\n"
     ]
    }
   ],
   "source": [
    "%%time\n",
    "\n",
    "pd_result = grouped_df.rolling('7d', on='date').mean()"
   ]
  },
  {
   "cell_type": "markdown",
   "metadata": {},
   "source": [
    "## Grouped moving average in Temporian\n",
    "\n",
    "Temporian can handle grouped (or hierarchically structured) data natively, using [indexes](https://temporian.readthedocs.io/en/stable/user_guide/#indexes-horizontal-and-vertical-operators). Once our data has the correct index, applying a `simple_moving_average` to it is straightforward."
   ]
  },
  {
   "cell_type": "code",
   "execution_count": 9,
   "metadata": {},
   "outputs": [],
   "source": [
    "# grouped_evset = sales_evset.add_index(['store_nbr', 'family'])"
   ]
  },
  {
   "cell_type": "code",
   "execution_count": 10,
   "metadata": {},
   "outputs": [],
   "source": [
    "# %%time\n",
    "\n",
    "# tp_result = grouped_evset.simple_moving_average(tp.duration.weeks(1))"
   ]
  },
  {
   "cell_type": "markdown",
   "metadata": {},
   "source": [
    "## Results\n",
    "\n",
    "Computing the same grouped moving average in Temporian resulted in a **28x speedup** in this dataset!"
   ]
  },
  {
   "cell_type": "markdown",
   "metadata": {},
   "source": [
    "#### Sanity check\n",
    "\n",
    "As a sanity check, lets make sure the results from both libraries are the same."
   ]
  },
  {
   "cell_type": "code",
   "execution_count": 11,
   "metadata": {},
   "outputs": [],
   "source": [
    "# tp_sma = tp.to_pandas(tp_result).sort_values(['store_nbr', 'family', 'timestamp'])['sales']\n",
    "# pd_sma = pd_result.sort_values(['store_nbr', 'family', 'date'])['sales']\n",
    "# np.allclose(pd_sma, tp_sma)"
   ]
  },
  {
   "cell_type": "markdown",
   "metadata": {},
   "source": [
    "## But... what about Polars?\n",
    "\n",
    "[Polars](https://www.pola.rs/) is a DataFrame library written in Rust, born as a performance-oriented alternative to pandas. Lets see how it fares on this same task!"
   ]
  },
  {
   "cell_type": "code",
   "execution_count": 22,
   "metadata": {},
   "outputs": [
    {
     "data": {
      "text/html": [
       "<div><style>\n",
       ".dataframe > thead > tr > th,\n",
       ".dataframe > tbody > tr > td {\n",
       "  text-align: right;\n",
       "  white-space: pre-wrap;\n",
       "}\n",
       "</style>\n",
       "<small>shape: (5, 4)</small><table border=\"1\" class=\"dataframe\"><thead><tr><th>date</th><th>store_nbr</th><th>family</th><th>sales</th></tr><tr><td>date</td><td>i64</td><td>str</td><td>f64</td></tr></thead><tbody><tr><td>2013-01-01</td><td>1</td><td>&quot;AUTOMOTIVE&quot;</td><td>0.0</td></tr><tr><td>2013-01-01</td><td>1</td><td>&quot;BABY CARE&quot;</td><td>0.0</td></tr><tr><td>2013-01-01</td><td>1</td><td>&quot;BEAUTY&quot;</td><td>0.0</td></tr><tr><td>2013-01-01</td><td>1</td><td>&quot;BEVERAGES&quot;</td><td>0.0</td></tr><tr><td>2013-01-01</td><td>1</td><td>&quot;BOOKS&quot;</td><td>0.0</td></tr></tbody></table></div>"
      ],
      "text/plain": [
       "shape: (5, 4)\n",
       "┌────────────┬───────────┬────────────┬───────┐\n",
       "│ date       ┆ store_nbr ┆ family     ┆ sales │\n",
       "│ ---        ┆ ---       ┆ ---        ┆ ---   │\n",
       "│ date       ┆ i64       ┆ str        ┆ f64   │\n",
       "╞════════════╪═══════════╪════════════╪═══════╡\n",
       "│ 2013-01-01 ┆ 1         ┆ AUTOMOTIVE ┆ 0.0   │\n",
       "│ 2013-01-01 ┆ 1         ┆ BABY CARE  ┆ 0.0   │\n",
       "│ 2013-01-01 ┆ 1         ┆ BEAUTY     ┆ 0.0   │\n",
       "│ 2013-01-01 ┆ 1         ┆ BEVERAGES  ┆ 0.0   │\n",
       "│ 2013-01-01 ┆ 1         ┆ BOOKS      ┆ 0.0   │\n",
       "└────────────┴───────────┴────────────┴───────┘"
      ]
     },
     "execution_count": 22,
     "metadata": {},
     "output_type": "execute_result"
    }
   ],
   "source": [
    "import polars as pl\n",
    "\n",
    "polars_df = pl.read_csv(\"../data/train.csv\", try_parse_dates=True, columns=['date', 'store_nbr', 'sales', 'family'])\n",
    "polars_df.head()"
   ]
  },
  {
   "cell_type": "code",
   "execution_count": 18,
   "metadata": {},
   "outputs": [
    {
     "name": "stdout",
     "output_type": "stream",
     "text": [
      "CPU times: user 460 ms, sys: 553 ms, total: 1.01 s\n",
      "Wall time: 665 ms\n"
     ]
    }
   ],
   "source": [
    "%%time\n",
    "\n",
    "pl_result = (\n",
    "    polars_df\n",
    "    .rolling(index_column='date', by=['store_nbr', 'family'], period='7d', offset='-7d')\n",
    "    .agg(pl.col('sales').mean())\n",
    ")"
   ]
  },
  {
   "cell_type": "code",
   "execution_count": 17,
   "metadata": {},
   "outputs": [
    {
     "data": {
      "text/plain": [
       "True"
      ]
     },
     "execution_count": 17,
     "metadata": {},
     "output_type": "execute_result"
    }
   ],
   "source": [
    "pl_sma = pl_result.to_pandas().sort_values(['store_nbr', 'family', 'date'])['sales']\n",
    "pd_sma = pd_result.sort_values(['store_nbr', 'family', 'date'])['sales']\n",
    "np.allclose(pd_sma, pl_sma)"
   ]
  }
 ],
 "metadata": {
  "kernelspec": {
   "display_name": ".venv",
   "language": "python",
   "name": "python3"
  },
  "language_info": {
   "codemirror_mode": {
    "name": "ipython",
    "version": 3
   },
   "file_extension": ".py",
   "mimetype": "text/x-python",
   "name": "python",
   "nbconvert_exporter": "python",
   "pygments_lexer": "ipython3",
   "version": "3.10.13"
  }
 },
 "nbformat": 4,
 "nbformat_minor": 2
}
